{
 "cells": [
  {
   "cell_type": "markdown",
   "metadata": {},
   "source": [
    "# Analyzing neighborhoods and beer consume by students in the vicinity of University of São Paulo in São Paulo/ Brazil to start a Pub & Beer Store.\n",
    "\n"
   ]
  },
  {
   "cell_type": "markdown",
   "metadata": {},
   "source": [
    "## INTRODUCTION"
   ]
  },
  {
   "cell_type": "markdown",
   "metadata": {},
   "source": [
    "Beer is the second most consumed alcoholic beverage in the world and the most consumed in Brazil ¹. In this country the consumption percentage of beer falls in approximately 60% and the Brazilians are the third in consuming this fresh and bubbling drink and presenting growth in this habit ². The city of São Paulo is the biggest one in all South America and have 12.33 million habitants and data available about this theme and in that population center inside University of São Paulo, USP, is available on Kaggle³. In that city exist a borough called Butantã and there is located the USP, the better college in all South America and one of the biggest campus in all the state. Also the total revenue for Brazil in 2021 was predicted to be 51,160 million dollars and the average per capita for the same year to be 239.07 dollars 4. So the intention in this report is to justify the best time and place to open a Pub & Beer Store using the Foursquare API and create a model to evaluate a tendency in the consumption of beer through time in the same city and what's the best variables to use in that model. The final goal is to obtain the best profitable place in the Butanta's borough in São Paulo and knowing the consumer behavior through a dataset will create an opportunity to ensure bigger sales and better brand  exposure."
   ]
  },
  {
   "cell_type": "markdown",
   "metadata": {},
   "source": [
    "## REFERENCES"
   ]
  },
  {
   "cell_type": "markdown",
   "metadata": {},
   "source": [
    "1. https://ourworldindata.org/alcohol-consumption#:~:text=consumption%20per%20person-,Alcohol%20consumption%20across%20the%20world%20today,of%20pure%20alcohol%20per%20year.\n",
    "2. https://www.kirinholdings.co.jp/english/news/2019/1224_01.html\n",
    "3. https://www.kaggle.com/dongeorge/beer-consumption-sao-paulo\n",
    "4. https://www.statista.com/outlook/10010000/115/beer/brazil#market-arpu"
   ]
  }
 ],
 "metadata": {
  "kernelspec": {
   "display_name": "Python 3",
   "language": "python",
   "name": "python3"
  },
  "language_info": {
   "codemirror_mode": {
    "name": "ipython",
    "version": 3
   },
   "file_extension": ".py",
   "mimetype": "text/x-python",
   "name": "python",
   "nbconvert_exporter": "python",
   "pygments_lexer": "ipython3",
   "version": "3.8.3"
  }
 },
 "nbformat": 4,
 "nbformat_minor": 4
}
